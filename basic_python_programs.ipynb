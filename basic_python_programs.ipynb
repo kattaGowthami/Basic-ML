{
  "nbformat": 4,
  "nbformat_minor": 0,
  "metadata": {
    "colab": {
      "name": "basic python programs",
      "provenance": [],
      "authorship_tag": "ABX9TyM0p/HS2/t7F+NuLERqGS/g",
      "include_colab_link": true
    },
    "kernelspec": {
      "name": "python3",
      "display_name": "Python 3"
    },
    "language_info": {
      "name": "python"
    }
  },
  "cells": [
    {
      "cell_type": "markdown",
      "metadata": {
        "id": "view-in-github",
        "colab_type": "text"
      },
      "source": [
        "<a href=\"https://colab.research.google.com/github/kattaGowthami/Basic-ML/blob/main/basic_python_programs.ipynb\" target=\"_parent\"><img src=\"https://colab.research.google.com/assets/colab-badge.svg\" alt=\"Open In Colab\"/></a>"
      ]
    },
    {
      "cell_type": "code",
      "metadata": {
        "id": "NrXmTpMkGW5f"
      },
      "source": [
        ""
      ],
      "execution_count": null,
      "outputs": []
    },
    {
      "cell_type": "code",
      "metadata": {
        "colab": {
          "base_uri": "https://localhost:8080/"
        },
        "id": "D4gtrlTeGZQp",
        "outputId": "99bc37d0-c5a4-410e-bd32-7107399e1634"
      },
      "source": [
        "n = 5\n",
        "fact = 1\n",
        "for i in range(1,6):\n",
        "  fact = fact*i\n",
        "print(fact)\n"
      ],
      "execution_count": 2,
      "outputs": [
        {
          "output_type": "stream",
          "text": [
            "120\n"
          ],
          "name": "stdout"
        }
      ]
    },
    {
      "cell_type": "markdown",
      "metadata": {
        "id": "zNbxmkeHHC8-"
      },
      "source": [
        "FACTORIAL OF THE GIVEN NUMBER:\n",
        "\n",
        "\n",
        "1.   The inputs required to find the factorial of the number   are the number to which we have to find the factorial.\n",
        "2.   And declare the value of fact as 1\n",
        "3. Then run a for loop in the range 1 to input+1\n",
        "4. And each value of i is multiplied with fact and stored in the value of fact\n",
        "5. At last come out of the loop and print the final value of fact that give the value of factorial of the given number\n",
        "\n",
        "\n"
      ]
    },
    {
      "cell_type": "code",
      "metadata": {
        "colab": {
          "base_uri": "https://localhost:8080/"
        },
        "id": "_RRi9nctJd7I",
        "outputId": "16a9d773-52b7-4573-9e0b-940cefe263c1"
      },
      "source": [
        "n = 5\n",
        "sum = 0\n",
        "for i in range(1,6):\n",
        "  sum = sum + i\n",
        "print(sum)"
      ],
      "execution_count": 3,
      "outputs": [
        {
          "output_type": "stream",
          "text": [
            "15\n"
          ],
          "name": "stdout"
        }
      ]
    },
    {
      "cell_type": "markdown",
      "metadata": {
        "id": "1Gizl8OFJz6z"
      },
      "source": [
        "SUM OF FIRST N NATURAL NUMBERS:\n",
        "\n",
        "\n",
        "1.   The inputs is that how many numbers should be added\n",
        "2.   Initialize  the value of sum as 0\n",
        "3.  Then run a for loop in the range 1 to input+1\n",
        "4. Then add each value of i to the sum and the loop out if the range exceeds\n",
        "5. Finally print the value of sum that gives the sumn of first Natural numbers\n",
        "\n"
      ]
    },
    {
      "cell_type": "code",
      "metadata": {
        "colab": {
          "base_uri": "https://localhost:8080/"
        },
        "id": "uUECpDzHLKaF",
        "outputId": "b4a94160-dee5-4209-c9ad-77ade2b2b6c8"
      },
      "source": [
        "n = 5\n",
        "if n%2 == 0:\n",
        "  print(\"Even number\")\n",
        "else:\n",
        "  print(\"Odd number\")"
      ],
      "execution_count": 4,
      "outputs": [
        {
          "output_type": "stream",
          "text": [
            "Odd number\n"
          ],
          "name": "stdout"
        }
      ]
    },
    {
      "cell_type": "markdown",
      "metadata": {
        "id": "lFI9KCu7LiT4"
      },
      "source": [
        "EVEN OR ODD NUMBER\n",
        "\n",
        "1.   To find wheather a number is even or odd first input the number\n",
        "2.   Then check the condition wheather the number is divisible by 2\n",
        "3. If the condition is true print as even number\n",
        "4. If the condition is false print as odd number \n",
        "\n"
      ]
    }
  ]
}